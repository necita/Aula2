{
 "cells": [
  {
   "cell_type": "code",
   "execution_count": 3,
   "metadata": {
    "collapsed": false
   },
   "outputs": [
    {
     "name": "stdout",
     "output_type": "stream",
     "text": [
      "representação dos numeros por truncamento\n",
      "1.25=0,125*10**1\n",
      "10.053=0,10053*10**-2=        0.1*10**-2\n",
      "-238.15=0.23815*10**3=        0.238*10**3\n",
      "2.71828=0.271828*10**-1 =     0.271*10**-1\n",
      "0.000007=0.7*10**-5          (não pode ser representado)\n",
      "718235.82=0,71823582*10**6   (não pode ser representado)\n"
     ]
    }
   ],
   "source": [
    "print('representação dos numeros por truncamento')\n",
    "print('1.25=0,125*10**1')\n",
    "print('10.053=0,10053*10**-2=        0.1*10**-2')\n",
    "print('-238.15=0.23815*10**3=        0.238*10**3')\n",
    "print('2.71828=0.271828*10**-1 =     0.271*10**-1')\n",
    "print('0.000007=0.7*10**-5          (não pode ser representado)')\n",
    "print('718235.82=0,71823582*10**6   (não pode ser representado)')\n"
   ]
  },
  {
   "cell_type": "code",
   "execution_count": 2,
   "metadata": {
    "collapsed": false
   },
   "outputs": [
    {
     "name": "stdout",
     "output_type": "stream",
     "text": [
      "representação dos numeros por arredondamento\n",
      "1.25=0.125*10**1              0.126*10**1 \n",
      "10.053=0.10053*10**-2=        0.1*10**-2\n",
      "-238.15=0.23815*10**3=        0.238*10**3\n",
      "2.71828=0.271828*10**-1 =     0.271*10**-1\n",
      "0.000007=0.7*10**-5          (não pode ser representado)\n",
      "718235.82=0,71823582*10**6   (não pode ser representado)\n"
     ]
    }
   ],
   "source": [
    "print('representação dos numeros por arredondamento')\n",
    "print('1.25=0.125*10**1              0.126*10**1 ')\n",
    "print('10.053=0.10053*10**-2=        0.1*10**-2')\n",
    "print('-238.15=0.23815*10**3=        0.238*10**3')\n",
    "print('2.71828=0.271828*10**-1 =     0.271*10**-1')\n",
    "print('0.000007=0.7*10**-5          (não pode ser representado)')\n",
    "print('718235.82=0,71823582*10**6   (não pode ser representado)')\n"
   ]
  }
 ],
 "metadata": {
  "anaconda-cloud": {},
  "kernelspec": {
   "display_name": "Python [default]",
   "language": "python",
   "name": "python3"
  },
  "language_info": {
   "codemirror_mode": {
    "name": "ipython",
    "version": 3
   },
   "file_extension": ".py",
   "mimetype": "text/x-python",
   "name": "python",
   "nbconvert_exporter": "python",
   "pygments_lexer": "ipython3",
   "version": "3.5.2"
  }
 },
 "nbformat": 4,
 "nbformat_minor": 2
}
